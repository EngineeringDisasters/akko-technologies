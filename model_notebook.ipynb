{
 "metadata": {
  "language_info": {
   "codemirror_mode": {
    "name": "ipython",
    "version": 3
   },
   "file_extension": ".py",
   "mimetype": "text/x-python",
   "name": "python",
   "nbconvert_exporter": "python",
   "pygments_lexer": "ipython3",
   "version": "3.7.9-final"
  },
  "orig_nbformat": 2,
  "kernelspec": {
   "name": "python3",
   "display_name": "Python 3",
   "language": "python"
  }
 },
 "nbformat": 4,
 "nbformat_minor": 2,
 "cells": [
  {
   "cell_type": "code",
   "execution_count": 2,
   "metadata": {},
   "outputs": [],
   "source": [
    "# This is where I expect to work out most of the financial analysis and modeling code. \n",
    "\n",
    "# This will include scraping, processing, model building, and visualizations\n",
    "\n",
    "# I will start with this code, then move on to the web framework. "
   ]
  },
  {
   "cell_type": "code",
   "execution_count": null,
   "metadata": {},
   "outputs": [],
   "source": [
    "import datetime as dt\n",
    "import math\n",
    "import numpy as np\n",
    "import pandas as pd\n",
    "import requests\n",
    "from scipy import stats\n",
    "import xlsxwriter\n",
    "import yfinance as yf\n",
    "\n",
    "\n",
    "# # User input for what tickers are of interest, over what time, and on what interval\n",
    "# def ticker_user_input():\n",
    "#     \"\"\"\n",
    "#     Takes user input of tickers, and creates a list with each ticker as an item.\n",
    "#     \"\"\"        \n",
    "#     tickers = input('What ticker(s) would you like analysis on:')\n",
    "#     ticker_list = []\n",
    "#     for ticker in tickers.split():\n",
    "#         ticker_list.append(ticker)\n",
    "#     return ticker_list\n",
    "# #Need to add some defensive programming to this functionality. What if they do not enter date correctly. Maybe have a way in app to graphically select date from a calendar. \n",
    "# # def time_period():\n",
    "# #     start = input(\"Start date (mm/dd/yyyy):\")\n",
    "# #     end = input(\"End date (mm/dd/yyyy):\")\n",
    "# tickers = ticker_user_input()\n",
    "# time_period = input('Desired timeframe:')\n",
    "\n",
    "# ticker_dict = {} \n",
    "# for tick in tickers:\n",
    "#     ticker_obj = yf.Ticker(f'{tick}')\n",
    "#     ticker_dict[tick] = ticker_obj.history(period = time_period, interval = '1d')\n",
    "\n",
    "agtc = yf.Ticker(\"agtc\")\n",
    "agtc.info\n",
    "\n",
    "\n",
    "\n",
    "# agtc = yf.Ticker('agtc')\n",
    "# agtc_historical = agtc.history(period = '2y')\n",
    "# agtc_historical"
   ]
  }
 ]
}